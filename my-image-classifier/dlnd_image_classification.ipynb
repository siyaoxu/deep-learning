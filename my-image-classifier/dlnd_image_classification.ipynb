{
 "cells": [
  {
   "cell_type": "markdown",
   "metadata": {
    "collapsed": true,
    "deletable": true,
    "editable": true
   },
   "source": [
    "# Image Classification\n",
    "In this project, you'll classify images from the [CIFAR-10 dataset](https://www.cs.toronto.edu/~kriz/cifar.html).  The dataset consists of airplanes, dogs, cats, and other objects. You'll preprocess the images, then train a convolutional neural network on all the samples. The images need to be normalized and the labels need to be one-hot encoded.  You'll get to apply what you learned and build a convolutional, max pooling, dropout, and fully connected layers.  At the end, you'll get to see your neural network's predictions on the sample images.\n",
    "## Get the Data\n",
    "Run the following cell to download the [CIFAR-10 dataset for python](https://www.cs.toronto.edu/~kriz/cifar-10-python.tar.gz)."
   ]
  },
  {
   "cell_type": "code",
   "execution_count": 1,
   "metadata": {
    "collapsed": false,
    "deletable": true,
    "editable": true
   },
   "outputs": [
    {
     "name": "stdout",
     "output_type": "stream",
     "text": [
      "All files found!\n"
     ]
    }
   ],
   "source": [
    "\"\"\"\n",
    "DON'T MODIFY ANYTHING IN THIS CELL THAT IS BELOW THIS LINE\n",
    "\"\"\"\n",
    "from urllib.request import urlretrieve\n",
    "from os.path import isfile, isdir\n",
    "from tqdm import tqdm\n",
    "import problem_unittests as tests\n",
    "import tarfile\n",
    "\n",
    "cifar10_dataset_folder_path = 'cifar-10-batches-py'\n",
    "\n",
    "class DLProgress(tqdm):\n",
    "    last_block = 0\n",
    "\n",
    "    def hook(self, block_num=1, block_size=1, total_size=None):\n",
    "        self.total = total_size\n",
    "        self.update((block_num - self.last_block) * block_size)\n",
    "        self.last_block = block_num\n",
    "\n",
    "if not isfile('cifar-10-python.tar.gz'):\n",
    "    with DLProgress(unit='B', unit_scale=True, miniters=1, desc='CIFAR-10 Dataset') as pbar:\n",
    "        urlretrieve(\n",
    "            'https://www.cs.toronto.edu/~kriz/cifar-10-python.tar.gz',\n",
    "            'cifar-10-python.tar.gz',\n",
    "            pbar.hook)\n",
    "\n",
    "if not isdir(cifar10_dataset_folder_path):\n",
    "    with tarfile.open('cifar-10-python.tar.gz') as tar:\n",
    "        tar.extractall()\n",
    "        tar.close()\n",
    "\n",
    "\n",
    "tests.test_folder_path(cifar10_dataset_folder_path)"
   ]
  },
  {
   "cell_type": "markdown",
   "metadata": {
    "deletable": true,
    "editable": true
   },
   "source": [
    "## Explore the Data\n",
    "The dataset is broken into batches to prevent your machine from running out of memory.  The CIFAR-10 dataset consists of 5 batches, named `data_batch_1`, `data_batch_2`, etc.. Each batch contains the labels and images that are one of the following:\n",
    "* airplane\n",
    "* automobile\n",
    "* bird\n",
    "* cat\n",
    "* deer\n",
    "* dog\n",
    "* frog\n",
    "* horse\n",
    "* ship\n",
    "* truck\n",
    "\n",
    "Understanding a dataset is part of making predictions on the data.  Play around with the code cell below by changing the `batch_id` and `sample_id`. The `batch_id` is the id for a batch (1-5). The `sample_id` is the id for a image and label pair in the batch.\n",
    "\n",
    "Ask yourself \"What are all possible labels?\", \"What is the range of values for the image data?\", \"Are the labels in order or random?\".  Answers to questions like these will help you preprocess the data and end up with better predictions."
   ]
  },
  {
   "cell_type": "code",
   "execution_count": 2,
   "metadata": {
    "collapsed": false,
    "deletable": true,
    "editable": true
   },
   "outputs": [
    {
     "name": "stdout",
     "output_type": "stream",
     "text": [
      "\n",
      "Stats of batch 1:\n",
      "Samples: 10000\n",
      "Label Counts: {0: 1005, 1: 974, 2: 1032, 3: 1016, 4: 999, 5: 937, 6: 1030, 7: 1001, 8: 1025, 9: 981}\n",
      "First 20 Labels: [6, 9, 9, 4, 1, 1, 2, 7, 8, 3, 4, 7, 7, 2, 9, 9, 9, 3, 2, 6]\n",
      "\n",
      "Example of Image 5:\n",
      "Image - Min Value: 0 Max Value: 252\n",
      "Image - Shape: (32, 32, 3)\n",
      "Label - Label Id: 1 Name: automobile\n"
     ]
    },
    {
     "data": {
      "image/png": "[encoded data removed]",
      "text/plain": [
       "<matplotlib.figure.Figure at 0x7f245031c400>"
      ]
     },
     "metadata": {
      "image/png": {
       "height": 250,
       "width": 253
      }
     },
     "output_type": "display_data"
    }
   ],
   "source": [
    "%matplotlib inline\n",
    "%config InlineBackend.figure_format = 'retina'\n",
    "\n",
    "import helper\n",
    "import numpy as np\n",
    "\n",
    "# Explore the dataset\n",
    "batch_id = 1\n",
    "sample_id = 5\n",
    "helper.display_stats(cifar10_dataset_folder_path, batch_id, sample_id)"
   ]
  },
  {
   "cell_type": "markdown",
   "metadata": {
    "deletable": true,
    "editable": true
   },
   "source": [
    "## Implement Preprocess Functions\n",
    "### Normalize\n",
    "In the cell below, implement the `normalize` function to take in image data, `x`, and return it as a normalized Numpy array. The values should be in the range of 0 to 1, inclusive.  The return object should be the same shape as `x`."
   ]
  },
  {
   "cell_type": "code",
   "execution_count": 3,
   "metadata": {
    "collapsed": false,
    "deletable": true,
    "editable": true
   },
   "outputs": [
    {
     "name": "stdout",
     "output_type": "stream",
     "text": [
      "Tests Passed\n"
     ]
    }
   ],
   "source": [
    "def normalize(x):\n",
    "    \"\"\"\n",
    "    Normalize a list of sample image data in the range of 0 to 1\n",
    "    : x: List of image data.  The image shape is (32, 32, 3)\n",
    "    : return: Numpy array of normalize data\n",
    "    \"\"\"\n",
    "    # TODO: Implement Function\n",
    "    images = np.array([(img-np.min(img))/np.ptp(img) for img in x])\n",
    "    return images\n",
    "\n",
    "\n",
    "\"\"\"\n",
    "DON'T MODIFY ANYTHING IN THIS CELL THAT IS BELOW THIS LINE\n",
    "\"\"\"\n",
    "tests.test_normalize(normalize)"
   ]
  },
  {
   "cell_type": "markdown",
   "metadata": {
    "deletable": true,
    "editable": true
   },
   "source": [
    "### One-hot encode\n",
    "Just like the previous code cell, you'll be implementing a function for preprocessing.  This time, you'll implement the `one_hot_encode` function. The input, `x`, are a list of labels.  Implement the function to return the list of labels as One-Hot encoded Numpy array.  The possible values for labels are 0 to 9. The one-hot encoding function should return the same encoding for each value between each call to `one_hot_encode`.  Make sure to save the map of encodings outside the function.\n",
    "\n",
    "Hint: Don't reinvent the wheel."
   ]
  },
  {
   "cell_type": "code",
   "execution_count": 4,
   "metadata": {
    "collapsed": false,
    "deletable": true,
    "editable": true
   },
   "outputs": [
    {
     "name": "stdout",
     "output_type": "stream",
     "text": [
      "Tests Passed\n"
     ]
    }
   ],
   "source": [
    "def one_hot_encode(x):\n",
    "    \"\"\"\n",
    "    One hot encode a list of sample labels. Return a one-hot encoded vector for each label.\n",
    "    : x: List of sample Labels\n",
    "    : return: Numpy array of one-hot encoded labels\n",
    "    \"\"\"\n",
    "    # TODO: Implement Function\n",
    "    x = np.array(x)\n",
    "    coded = np.zeros((x.shape[0],10))\n",
    "    coded[np.arange(x.shape[0]),x] = 1\n",
    "    return coded\n",
    "\n",
    "\n",
    "\"\"\"\n",
    "DON'T MODIFY ANYTHING IN THIS CELL THAT IS BELOW THIS LINE\n",
    "\"\"\"\n",
    "tests.test_one_hot_encode(one_hot_encode)"
   ]
  },
  {
   "cell_type": "markdown",
   "metadata": {
    "deletable": true,
    "editable": true
   },
   "source": [
    "### Randomize Data\n",
    "As you saw from exploring the data above, the order of the samples are randomized.  It doesn't hurt to randomize it again, but you don't need to for this dataset."
   ]
  },
  {
   "cell_type": "markdown",
   "metadata": {
    "deletable": true,
    "editable": true
   },
   "source": [
    "## Preprocess all the data and save it\n",
    "Running the code cell below will preprocess all the CIFAR-10 data and save it to file. The code below also uses 10% of the training data for validation."
   ]
  },
  {
   "cell_type": "code",
   "execution_count": 5,
   "metadata": {
    "collapsed": false,
    "deletable": true,
    "editable": true
   },
   "outputs": [],
   "source": [
    "\"\"\"\n",
    "DON'T MODIFY ANYTHING IN THIS CELL\n",
    "\"\"\"\n",
    "# Preprocess Training, Validation, and Testing Data\n",
    "helper.preprocess_and_save_data(cifar10_dataset_folder_path, normalize, one_hot_encode)"
   ]
  },
  {
   "cell_type": "markdown",
   "metadata": {
    "deletable": true,
    "editable": true
   },
   "source": [
    "# Check Point\n",
    "This is your first checkpoint.  If you ever decide to come back to this notebook or have to restart the notebook, you can start from here.  The preprocessed data has been saved to disk."
   ]
  },
  {
   "cell_type": "code",
   "execution_count": 1,
   "metadata": {
    "collapsed": true,
    "deletable": true,
    "editable": true
   },
   "outputs": [],
   "source": [
    "\"\"\"\n",
    "DON'T MODIFY ANYTHING IN THIS CELL\n",
    "\"\"\"\n",
    "import pickle\n",
    "import problem_unittests as tests\n",
    "import helper\n",
    "\n",
    "# Load the Preprocessed Validation data\n",
    "valid_features, valid_labels = pickle.load(open('preprocess_validation.p', mode='rb'))"
   ]
  },
  {
   "cell_type": "markdown",
   "metadata": {
    "deletable": true,
    "editable": true
   },
   "source": [
    "## Build the network\n",
    "For the neural network, you'll build each layer into a function.  Most of the code you've seen has been outside of functions. To test your code more thoroughly, we require that you put each layer in a function.  This allows us to give you better feedback and test for simple mistakes using our unittests before you submit your project.\n",
    "\n",
    "If you're finding it hard to dedicate enough time for this course a week, we've provided a small shortcut to this part of the project. In the next couple of problems, you'll have the option to use [TensorFlow Layers](https://www.tensorflow.org/api_docs/python/tf/layers) or [TensorFlow Layers (contrib)](https://www.tensorflow.org/api_guides/python/contrib.layers) to build each layer, except \"Convolutional & Max Pooling\" layer.  TF Layers is similar to Keras's and TFLearn's abstraction to layers, so it's easy to pickup.\n",
    "\n",
    "If you would like to get the most of this course, try to solve all the problems without TF Layers.  Let's begin!\n",
    "### Input\n",
    "The neural network needs to read the image data, one-hot encoded labels, and dropout keep probability. Implement the following functions\n",
    "* Implement `neural_net_image_input`\n",
    " * Return a [TF Placeholder](https://www.tensorflow.org/api_docs/python/tf/placeholder)\n",
    " * Set the shape using `image_shape` with batch size set to `None`.\n",
    " * Name the TensorFlow placeholder \"x\" using the TensorFlow `name` parameter in the [TF Placeholder](https://www.tensorflow.org/api_docs/python/tf/placeholder).\n",
    "* Implement `neural_net_label_input`\n",
    " * Return a [TF Placeholder](https://www.tensorflow.org/api_docs/python/tf/placeholder)\n",
    " * Set the shape using `n_classes` with batch size set to `None`.\n",
    " * Name the TensorFlow placeholder \"y\" using the TensorFlow `name` parameter in the [TF Placeholder](https://www.tensorflow.org/api_docs/python/tf/placeholder).\n",
    "* Implement `neural_net_keep_prob_input`\n",
    " * Return a [TF Placeholder](https://www.tensorflow.org/api_docs/python/tf/placeholder) for dropout keep probability.\n",
    " * Name the TensorFlow placeholder \"keep_prob\" using the TensorFlow `name` parameter in the [TF Placeholder](https://www.tensorflow.org/api_docs/python/tf/placeholder).\n",
    "\n",
    "These names will be used at the end of the project to load your saved model.\n",
    "\n",
    "Note: `None` for shapes in TensorFlow allow for a dynamic size."
   ]
  },
  {
   "cell_type": "code",
   "execution_count": 2,
   "metadata": {
    "collapsed": false,
    "deletable": true,
    "editable": true
   },
   "outputs": [
    {
     "name": "stdout",
     "output_type": "stream",
     "text": [
      "Image Input Tests Passed.\n",
      "Label Input Tests Passed.\n",
      "Keep Prob Tests Passed.\n"
     ]
    }
   ],
   "source": [
    "import tensorflow as tf\n",
    "\n",
    "def neural_net_image_input(image_shape):\n",
    "    \"\"\"\n",
    "    Return a Tensor for a bach of image input\n",
    "    : image_shape: Shape of the images\n",
    "    : return: Tensor for image input.\n",
    "    \"\"\"\n",
    "    # TODO: Implement Function\n",
    "    img_input = tf.placeholder(tf.float32,shape = (None, image_shape[0], image_shape[1], image_shape[2]),name='x')\n",
    "    return img_input\n",
    "\n",
    "\n",
    "def neural_net_label_input(n_classes):\n",
    "    \"\"\"\n",
    "    Return a Tensor for a batch of label input\n",
    "    : n_classes: Number of classes\n",
    "    : return: Tensor for label input.\n",
    "    \"\"\"\n",
    "    # TODO: Implement Function\n",
    "    label_input = tf.placeholder(tf.int32,shape=[None,n_classes],name='y')\n",
    "    return label_input\n",
    "\n",
    "\n",
    "def neural_net_keep_prob_input():\n",
    "    \"\"\"\n",
    "    Return a Tensor for keep probability\n",
    "    : return: Tensor for keep probability.\n",
    "    \"\"\"\n",
    "    # TODO: Implement Function\n",
    "    keep_prob = tf.placeholder(tf.float32, name = 'keep_prob')\n",
    "    return keep_prob\n",
    "\n",
    "\n",
    "\"\"\"\n",
    "DON'T MODIFY ANYTHING IN THIS CELL THAT IS BELOW THIS LINE\n",
    "\"\"\"\n",
    "tf.reset_default_graph()\n",
    "tests.test_nn_image_inputs(neural_net_image_input)\n",
    "tests.test_nn_label_inputs(neural_net_label_input)\n",
    "tests.test_nn_keep_prob_inputs(neural_net_keep_prob_input)"
   ]
  },
  {
   "cell_type": "markdown",
   "metadata": {
    "deletable": true,
    "editable": true
   },
   "source": [
    "### Convolution and Max Pooling Layer\n",
    "Convolution layers have a lot of success with images. For this code cell, you should implement the function `conv2d_maxpool` to apply convolution then max pooling:\n",
    "* Create the weight and bias using `conv_ksize`, `conv_num_outputs` and the shape of `x_tensor`.\n",
    "* Apply a convolution to `x_tensor` using weight and `conv_strides`.\n",
    " * We recommend you use same padding, but you're welcome to use any padding.\n",
    "* Add bias\n",
    "* Add a nonlinear activation to the convolution.\n",
    "* Apply Max Pooling using `pool_ksize` and `pool_strides`.\n",
    " * We recommend you use same padding, but you're welcome to use any padding.\n",
    "\n",
    "Note: You **can't** use [TensorFlow Layers](https://www.tensorflow.org/api_docs/python/tf/layers) or [TensorFlow Layers (contrib)](https://www.tensorflow.org/api_guides/python/contrib.layers) for this layer.  You're free to use any TensorFlow package for all the other layers."
   ]
  },
  {
   "cell_type": "code",
   "execution_count": 3,
   "metadata": {
    "collapsed": false,
    "deletable": true,
    "editable": true
   },
   "outputs": [
    {
     "name": "stdout",
     "output_type": "stream",
     "text": [
      "Tests Passed\n"
     ]
    }
   ],
   "source": [
    "def conv2d_maxpool(x_tensor, conv_num_outputs, conv_ksize, conv_strides, pool_ksize, pool_strides):\n",
    "    \"\"\"\n",
    "    Apply convolution then max pooling to x_tensor\n",
    "    :param x_tensor: TensorFlow Tensor\n",
    "    :param conv_num_outputs: Number of outputs for the convolutional layer\n",
    "    :param conv_strides: Stride 2-D Tuple for convolution\n",
    "    :param pool_ksize: kernal size 2-D Tuple for pool\n",
    "    :param pool_strides: Stride 2-D Tuple for pool\n",
    "    : return: A tensor that represents convolution and max pooling of x_tensor\n",
    "    \"\"\"\n",
    "    # TODO: Implement Function\n",
    "    # weight and bias\n",
    "    weight = tf.Variable(tf.truncated_normal([conv_ksize[0],conv_ksize[1],x_tensor.get_shape()[3].value,conv_num_outputs ])\n",
    "                         *(2.0/(x_tensor.get_shape().as_list()[1]*conv_num_outputs))**0.5)\n",
    "    bias = tf.Variable(tf.zeros(conv_num_outputs))\n",
    "    # convolute and add bias\n",
    "    conv_layer = tf.nn.conv2d(x_tensor,weight,[1]+list(conv_strides)+[1],padding = 'SAME')\n",
    "    conv_layer = tf.nn.bias_add(conv_layer,bias)\n",
    "    # apply a relu activation function\n",
    "    conv_layer = tf.nn.relu(conv_layer)\n",
    "    # max pooling\n",
    "    conv_layer = tf.nn.max_pool(conv_layer,[1]+list(pool_ksize)+[1],[1]+list(pool_strides)+[1],padding = 'SAME')\n",
    "    return conv_layer \n",
    "\n",
    "\n",
    "\"\"\"\n",
    "DON'T MODIFY ANYTHING IN THIS CELL THAT IS BELOW THIS LINE\n",
    "\"\"\"\n",
    "tests.test_con_pool(conv2d_maxpool)"
   ]
  },
  {
   "cell_type": "markdown",
   "metadata": {
    "deletable": true,
    "editable": true
   },
   "source": [
    "### Flatten Layer\n",
    "Implement the `flatten` function to change the dimension of `x_tensor` from a 4-D tensor to a 2-D tensor.  The output should be the shape (*Batch Size*, *Flattened Image Size*). You can use [TensorFlow Layers](https://www.tensorflow.org/api_docs/python/tf/layers) or [TensorFlow Layers (contrib)](https://www.tensorflow.org/api_guides/python/contrib.layers) for this layer."
   ]
  },
  {
   "cell_type": "code",
   "execution_count": 4,
   "metadata": {
    "collapsed": false,
    "deletable": true,
    "editable": true
   },
   "outputs": [
    {
     "name": "stdout",
     "output_type": "stream",
     "text": [
      "Tests Passed\n"
     ]
    }
   ],
   "source": [
    "def flatten(x_tensor):\n",
    "    \"\"\"\n",
    "    Flatten x_tensor to (Batch Size, Flattened Image Size)\n",
    "    : x_tensor: A tensor of size (Batch Size, ...), where ... are the image dimensions.\n",
    "    : return: A tensor of size (Batch Size, Flattened Image Size).\n",
    "    \"\"\"\n",
    "    # TODO: Implement Function\n",
    "    t_shape =x_tensor.get_shape().as_list()\n",
    "    x_tensor = tf.reshape(x_tensor,[-1, t_shape[1]*t_shape[2]*t_shape[3]])\n",
    "    return x_tensor\n",
    "\n",
    "\n",
    "\"\"\"\n",
    "DON'T MODIFY ANYTHING IN THIS CELL THAT IS BELOW THIS LINE\n",
    "\"\"\"\n",
    "tests.test_flatten(flatten)"
   ]
  },
  {
   "cell_type": "markdown",
   "metadata": {
    "deletable": true,
    "editable": true
   },
   "source": [
    "### Fully-Connected Layer\n",
    "Implement the `fully_conn` function to apply a fully connected layer to `x_tensor` with the shape (*Batch Size*, *num_outputs*). You can use [TensorFlow Layers](https://www.tensorflow.org/api_docs/python/tf/layers) or [TensorFlow Layers (contrib)](https://www.tensorflow.org/api_guides/python/contrib.layers) for this layer."
   ]
  },
  {
   "cell_type": "code",
   "execution_count": 5,
   "metadata": {
    "collapsed": false,
    "deletable": true,
    "editable": true
   },
   "outputs": [
    {
     "name": "stdout",
     "output_type": "stream",
     "text": [
      "Tests Passed\n"
     ]
    }
   ],
   "source": [
    "def fully_conn(x_tensor, num_outputs):\n",
    "    \"\"\"\n",
    "    Apply a fully connected layer to x_tensor using weight and bias\n",
    "    : x_tensor: A 2-D tensor where the first dimension is batch size.\n",
    "    : num_outputs: The number of output that the new tensor should be.\n",
    "    : return: A 2-D tensor where the second dimension is num_outputs.\n",
    "    \"\"\"\n",
    "    # TODO: Implement Function\n",
    "    weight = tf.Variable(tf.truncated_normal([x_tensor.get_shape().as_list()[1],num_outputs])\n",
    "                         *(2.0/(x_tensor.get_shape().as_list()[1]*num_outputs))**0.5)\n",
    "    bias = tf.Variable(tf.zeros(num_outputs))\n",
    "    fc = tf.matmul(x_tensor,weight)\n",
    "    fc = tf.add(fc,bias)\n",
    "    fc = tf.nn.relu(fc)\n",
    "    return fc\n",
    "\n",
    "\n",
    "\"\"\"\n",
    "DON'T MODIFY ANYTHING IN THIS CELL THAT IS BELOW THIS LINE\n",
    "\"\"\"\n",
    "tests.test_fully_conn(fully_conn)"
   ]
  },
  {
   "cell_type": "markdown",
   "metadata": {
    "deletable": true,
    "editable": true
   },
   "source": [
    "### Output Layer\n",
    "Implement the `output` function to apply a fully connected layer to `x_tensor` with the shape (*Batch Size*, *num_outputs*). You can use [TensorFlow Layers](https://www.tensorflow.org/api_docs/python/tf/layers) or [TensorFlow Layers (contrib)](https://www.tensorflow.org/api_guides/python/contrib.layers) for this layer.\n",
    "\n",
    "Note: Activation, softmax, or cross entropy shouldn't be applied to this."
   ]
  },
  {
   "cell_type": "code",
   "execution_count": 6,
   "metadata": {
    "collapsed": false,
    "deletable": true,
    "editable": true
   },
   "outputs": [
    {
     "name": "stdout",
     "output_type": "stream",
     "text": [
      "Tests Passed\n"
     ]
    }
   ],
   "source": [
    "def output(x_tensor, num_outputs):\n",
    "    \"\"\"\n",
    "    Apply a output layer to x_tensor using weight and bias\n",
    "    : x_tensor: A 2-D tensor where the first dimension is batch size.\n",
    "    : num_outputs: The number of output that the new tensor should be.\n",
    "    : return: A 2-D tensor where the second dimension is num_outputs.\n",
    "    \"\"\"\n",
    "    # TODO: Implement Function\n",
    "    weight = tf.Variable(tf.truncated_normal([x_tensor.get_shape().as_list()[1],num_outputs]) \n",
    "                         *(2.0/(x_tensor.get_shape().as_list()[1]*num_outputs))**0.5)\n",
    "    bias = tf.Variable(tf.zeros(num_outputs))\n",
    "    oc = tf.matmul(x_tensor,weight)\n",
    "    oc = tf.add(oc,bias)\n",
    "    return oc\n",
    "\n",
    "\n",
    "\"\"\"\n",
    "DON'T MODIFY ANYTHING IN THIS CELL THAT IS BELOW THIS LINE\n",
    "\"\"\"\n",
    "tests.test_output(output)"
   ]
  },
  {
   "cell_type": "markdown",
   "metadata": {
    "deletable": true,
    "editable": true
   },
   "source": [
    "### Create Convolutional Model\n",
    "Implement the function `conv_net` to create a convolutional neural network model. The function takes in a batch of images, `x`, and outputs logits.  Use the layers you created above to create this model:\n",
    "\n",
    "* Apply 1, 2, or 3 Convolution and Max Pool layers\n",
    "* Apply a Flatten Layer\n",
    "* Apply 1, 2, or 3 Fully Connected Layers\n",
    "* Apply an Output Layer\n",
    "* Return the output\n",
    "* Apply [TensorFlow's Dropout](https://www.tensorflow.org/api_docs/python/tf/nn/dropout) to one or more layers in the model using `keep_prob`. "
   ]
  },
  {
   "cell_type": "code",
   "execution_count": 66,
   "metadata": {
    "collapsed": false,
    "deletable": true,
    "editable": true
   },
   "outputs": [
    {
     "name": "stdout",
     "output_type": "stream",
     "text": [
      "Neural Network Built!\n"
     ]
    }
   ],
   "source": [
    "# 0.62 epoch=40, batch=200, dropout=0.5\n",
    "def conv_net(x, keep_prob):\n",
    "    \"\"\"\n",
    "    Create a convolutional neural network model\n",
    "    : x: Placeholder tensor that holds image data.\n",
    "    : keep_prob: Placeholder tensor that hold dropout keep probability.\n",
    "    : return: Tensor that represents logits\n",
    "    \"\"\"\n",
    "    # TODO: Apply 1, 2, or 3 Convolution and Max Pool layers\n",
    "    #    Play around with different number of outputs, kernel size and stride\n",
    "    # Function Definition from Above:\n",
    "    #    conv2d_maxpool(x_tensor, conv_num_outputs, conv_ksize, conv_strides, pool_ksize, pool_strides)\n",
    "    csize1 = 3\n",
    "    psize1 = 3\n",
    "    pstride1 = 2\n",
    "    conv_num_outputs1 = 24\n",
    "    conv1 = conv2d_maxpool(x, conv_num_outputs = conv_num_outputs1, conv_ksize = [csize1,csize1], conv_strides=[1,1], \\\n",
    "                           pool_ksize=[psize1,psize1], pool_strides=[pstride1,pstride1])\n",
    "#     conv1 = tf.nn.dropout(conv1,keep_prob)\n",
    "    \n",
    "    csize2 = 2\n",
    "    psize2 = 2\n",
    "    pstride2 = 2\n",
    "    conv_num_outputs2 = 48\n",
    "    conv2 = conv2d_maxpool(conv1, conv_num_outputs = conv_num_outputs2, conv_ksize = [csize2,csize2], conv_strides=[1,1], \\\n",
    "                           pool_ksize=[psize2,psize2], pool_strides=[pstride2,pstride2])\n",
    "#     conv2 = tf.nn.dropout(conv2,keep_prob)\n",
    "    \n",
    "    csize3 = 3\n",
    "    psize3 = 3\n",
    "    pstride3 = 2\n",
    "    conv_num_outputs3 = 72\n",
    "    conv3 = conv2d_maxpool(conv2, conv_num_outputs = conv_num_outputs3, conv_ksize = [csize3,csize3], conv_strides=[1,1], \\\n",
    "                           pool_ksize=[psize3,psize3], pool_strides=[pstride3,pstride3])\n",
    "#     conv3 = tf.nn.dropout(conv3,keep_prob)\n",
    "\n",
    "    \n",
    "    # TODO: Apply a Flatten Layer\n",
    "    # Function Definition from Above:\n",
    "    #   flatten(x_tensor)\n",
    "    flat = flatten(conv3)\n",
    "\n",
    "    # TODO: Apply 1, 2, or 3 Fully Connected Layers\n",
    "    #    Play around with different number of outputs\n",
    "    # Function Definition from Above:\n",
    "    #   fully_conn(x_tensor, num_outputs)\n",
    "    fc1 = fully_conn(flat,500)\n",
    "    fc1 = tf.nn.dropout(fc1,keep_prob)\n",
    "    fc2 = fully_conn(fc1,250)\n",
    "    fc2 = tf.nn.dropout(fc2,keep_prob)\n",
    "#     fc3 = fully_conn(fc2,250)\n",
    "#     fc3 = tf.nn.dropout(fc3,keep_prob)\n",
    "\n",
    "    # TODO: Apply an Output Layer\n",
    "    #    Set this to the number of classes\n",
    "    # Function Definition from Above:\n",
    "    #   output(x_tensor, num_outputs)\n",
    "    out = output(fc2,10)\n",
    "    \n",
    "    # TODO: return output\n",
    "    return out\n",
    "\n",
    "\n",
    "\"\"\"\n",
    "DON'T MODIFY ANYTHING IN THIS CELL THAT IS BELOW THIS LINE\n",
    "\"\"\"\n",
    "\n",
    "##############################\n",
    "## Build the Neural Network ##\n",
    "##############################\n",
    "\n",
    "# Remove previous weights, bias, inputs, etc..\n",
    "tf.reset_default_graph()\n",
    "\n",
    "# Inputs\n",
    "x = neural_net_image_input((32, 32, 3))\n",
    "y = neural_net_label_input(10)\n",
    "keep_prob = neural_net_keep_prob_input()\n",
    "\n",
    "# Model\n",
    "logits = conv_net(x, keep_prob)\n",
    "\n",
    "# Name logits Tensor, so that is can be loaded from disk after training\n",
    "logits = tf.identity(logits, name='logits')\n",
    "\n",
    "# Loss and Optimizer\n",
    "cost = tf.reduce_mean(tf.nn.softmax_cross_entropy_with_logits(logits=logits, labels=y))\n",
    "optimizer = tf.train.AdamOptimizer().minimize(cost)\n",
    "\n",
    "# Accuracy\n",
    "correct_pred = tf.equal(tf.argmax(logits, 1), tf.argmax(y, 1))\n",
    "accuracy = tf.reduce_mean(tf.cast(correct_pred, tf.float32), name='accuracy')\n",
    "\n",
    "tests.test_conv_net(conv_net)"
   ]
  },
  {
   "cell_type": "markdown",
   "metadata": {
    "deletable": true,
    "editable": true
   },
   "source": [
    "## Train the Neural Network\n",
    "### Single Optimization\n",
    "Implement the function `train_neural_network` to do a single optimization.  The optimization should use `optimizer` to optimize in `session` with a `feed_dict` of the following:\n",
    "* `x` for image input\n",
    "* `y` for labels\n",
    "* `keep_prob` for keep probability for dropout\n",
    "\n",
    "This function will be called for each batch, so `tf.global_variables_initializer()` has already been called.\n",
    "\n",
    "Note: Nothing needs to be returned. This function is only optimizing the neural network."
   ]
  },
  {
   "cell_type": "code",
   "execution_count": 16,
   "metadata": {
    "collapsed": false,
    "deletable": true,
    "editable": true
   },
   "outputs": [
    {
     "name": "stdout",
     "output_type": "stream",
     "text": [
      "Tests Passed\n"
     ]
    }
   ],
   "source": [
    "def train_neural_network(session, optimizer, keep_probability, feature_batch, label_batch):\n",
    "    \"\"\"\n",
    "    Optimize the session on a batch of images and labels\n",
    "    : session: Current TensorFlow session\n",
    "    : optimizer: TensorFlow optimizer function\n",
    "    : keep_probability: keep probability\n",
    "    : feature_batch: Batch of Numpy image data\n",
    "    : label_batch: Batch of Numpy label data\n",
    "    \"\"\"\n",
    "    # TODO: Implement Function\n",
    "    session.run(optimizer, feed_dict = {x:feature_batch, y:label_batch, keep_prob: keep_probability})\n",
    "    pass\n",
    "\n",
    "\n",
    "\"\"\"\n",
    "DON'T MODIFY ANYTHING IN THIS CELL THAT IS BELOW THIS LINE\n",
    "\"\"\"\n",
    "tests.test_train_nn(train_neural_network)"
   ]
  },
  {
   "cell_type": "markdown",
   "metadata": {
    "deletable": true,
    "editable": true
   },
   "source": [
    "### Show Stats\n",
    "Implement the function `print_stats` to print loss and validation accuracy.  Use the global variables `valid_features` and `valid_labels` to calculate validation accuracy.  Use a keep probability of `1.0` to calculate the loss and validation accuracy."
   ]
  },
  {
   "cell_type": "code",
   "execution_count": 17,
   "metadata": {
    "collapsed": false,
    "deletable": true,
    "editable": true
   },
   "outputs": [],
   "source": [
    "def print_stats(session, feature_batch, label_batch, cost, accuracy):\n",
    "    \"\"\"\n",
    "    Print information about loss and validation accuracy\n",
    "    : session: Current TensorFlow session\n",
    "    : feature_batch: Batch of Numpy image data\n",
    "    : label_batch: Batch of Numpy label data\n",
    "    : cost: TensorFlow cost function\n",
    "    : accuracy: TensorFlow accuracy function\n",
    "    \"\"\"\n",
    "    # TODO: Implement Function\n",
    "    loss = sess.run(cost, feed_dict={\n",
    "        x: feature_batch,\n",
    "        y: label_batch,\n",
    "        keep_prob: 1.})\n",
    "    valid_acc = sess.run(accuracy, feed_dict={\n",
    "        x: valid_features,\n",
    "        y: valid_labels,\n",
    "        keep_prob: 1.})\n",
    "    print('Loss: {:>10.4f} Validation Accuracy: {:.6f}'.format(loss,valid_acc))\n",
    "    pass"
   ]
  },
  {
   "cell_type": "markdown",
   "metadata": {
    "deletable": true,
    "editable": true
   },
   "source": [
    "### Hyperparameters\n",
    "Tune the following parameters:\n",
    "* Set `epochs` to the number of iterations until the network stops learning or start overfitting\n",
    "* Set `batch_size` to the highest number that your machine has memory for.  Most people set them to common sizes of memory:\n",
    " * 64\n",
    " * 128\n",
    " * 256\n",
    " * ...\n",
    "* Set `keep_probability` to the probability of keeping a node using dropout"
   ]
  },
  {
   "cell_type": "code",
   "execution_count": 50,
   "metadata": {
    "collapsed": true,
    "deletable": true,
    "editable": true
   },
   "outputs": [],
   "source": [
    "# TODO: Tune Parameters\n",
    "epochs = 40\n",
    "batch_size = 200\n",
    "keep_probability = 0.5"
   ]
  },
  {
   "cell_type": "markdown",
   "metadata": {
    "deletable": true,
    "editable": true
   },
   "source": [
    "### Train on a Single CIFAR-10 Batch\n",
    "Instead of training the neural network on all the CIFAR-10 batches of data, let's use a single batch. This should save time while you iterate on the model to get a better accuracy.  Once the final validation accuracy is 50% or greater, run the model on all the data in the next section."
   ]
  },
  {
   "cell_type": "code",
   "execution_count": 67,
   "metadata": {
    "collapsed": false,
    "deletable": true,
    "editable": true,
    "scrolled": false
   },
   "outputs": [
    {
     "name": "stdout",
     "output_type": "stream",
     "text": [
      "Checking the Training on a Single Batch...\n",
      "Epoch  1, CIFAR-10 Batch 1:  Loss:     2.1625 Validation Accuracy: 0.187200\n",
      "Epoch  2, CIFAR-10 Batch 1:  Loss:     2.0216 Validation Accuracy: 0.251400\n",
      "Epoch  3, CIFAR-10 Batch 1:  Loss:     1.8400 Validation Accuracy: 0.323800\n",
      "Epoch  4, CIFAR-10 Batch 1:  Loss:     1.7761 Validation Accuracy: 0.373400\n",
      "Epoch  5, CIFAR-10 Batch 1:  Loss:     1.7458 Validation Accuracy: 0.394600\n",
      "Epoch  6, CIFAR-10 Batch 1:  Loss:     1.6491 Validation Accuracy: 0.425200\n",
      "Epoch  7, CIFAR-10 Batch 1:  Loss:     1.6007 Validation Accuracy: 0.438800\n",
      "Epoch  8, CIFAR-10 Batch 1:  Loss:     1.5415 Validation Accuracy: 0.463000\n",
      "Epoch  9, CIFAR-10 Batch 1:  Loss:     1.4807 Validation Accuracy: 0.476200\n",
      "Epoch 10, CIFAR-10 Batch 1:  Loss:     1.4241 Validation Accuracy: 0.500400\n",
      "Epoch 11, CIFAR-10 Batch 1:  Loss:     1.3834 Validation Accuracy: 0.506600\n",
      "Epoch 12, CIFAR-10 Batch 1:  Loss:     1.3063 Validation Accuracy: 0.520600\n",
      "Epoch 13, CIFAR-10 Batch 1:  Loss:     1.2804 Validation Accuracy: 0.529600\n",
      "Epoch 14, CIFAR-10 Batch 1:  Loss:     1.2616 Validation Accuracy: 0.538000\n",
      "Epoch 15, CIFAR-10 Batch 1:  Loss:     1.1847 Validation Accuracy: 0.550400\n",
      "Epoch 16, CIFAR-10 Batch 1:  Loss:     1.1548 Validation Accuracy: 0.563400\n",
      "Epoch 17, CIFAR-10 Batch 1:  Loss:     1.1361 Validation Accuracy: 0.556400\n",
      "Epoch 18, CIFAR-10 Batch 1:  Loss:     1.0762 Validation Accuracy: 0.570600\n",
      "Epoch 19, CIFAR-10 Batch 1:  Loss:     1.0289 Validation Accuracy: 0.578800\n",
      "Epoch 20, CIFAR-10 Batch 1:  Loss:     0.9984 Validation Accuracy: 0.585000\n",
      "Epoch 21, CIFAR-10 Batch 1:  Loss:     0.9364 Validation Accuracy: 0.594400\n",
      "Epoch 22, CIFAR-10 Batch 1:  Loss:     0.9768 Validation Accuracy: 0.592200\n",
      "Epoch 23, CIFAR-10 Batch 1:  Loss:     0.8918 Validation Accuracy: 0.602200\n",
      "Epoch 24, CIFAR-10 Batch 1:  Loss:     0.8363 Validation Accuracy: 0.597600\n",
      "Epoch 25, CIFAR-10 Batch 1:  Loss:     0.7853 Validation Accuracy: 0.615600\n",
      "Epoch 26, CIFAR-10 Batch 1:  Loss:     0.7672 Validation Accuracy: 0.609600\n",
      "Epoch 27, CIFAR-10 Batch 1:  Loss:     0.7804 Validation Accuracy: 0.589000\n",
      "Epoch 28, CIFAR-10 Batch 1:  Loss:     0.7439 Validation Accuracy: 0.593200\n",
      "Epoch 29, CIFAR-10 Batch 1:  Loss:     0.6817 Validation Accuracy: 0.615000\n",
      "Epoch 30, CIFAR-10 Batch 1:  Loss:     0.6660 Validation Accuracy: 0.609400\n",
      "Epoch 31, CIFAR-10 Batch 1:  Loss:     0.7215 Validation Accuracy: 0.604400\n",
      "Epoch 32, CIFAR-10 Batch 1:  Loss:     0.5806 Validation Accuracy: 0.624800\n",
      "Epoch 33, CIFAR-10 Batch 1:  Loss:     0.6059 Validation Accuracy: 0.620000\n",
      "Epoch 34, CIFAR-10 Batch 1:  Loss:     0.5369 Validation Accuracy: 0.625000\n",
      "Epoch 35, CIFAR-10 Batch 1:  Loss:     0.5209 Validation Accuracy: 0.620000\n",
      "Epoch 36, CIFAR-10 Batch 1:  Loss:     0.5021 Validation Accuracy: 0.632600\n",
      "Epoch 37, CIFAR-10 Batch 1:  Loss:     0.4607 Validation Accuracy: 0.624000\n",
      "Epoch 38, CIFAR-10 Batch 1:  Loss:     0.4203 Validation Accuracy: 0.621000\n",
      "Epoch 39, CIFAR-10 Batch 1:  Loss:     0.3866 Validation Accuracy: 0.633400\n",
      "Epoch 40, CIFAR-10 Batch 1:  Loss:     0.3960 Validation Accuracy: 0.631600\n"
     ]
    }
   ],
   "source": [
    "\"\"\"\n",
    "DON'T MODIFY ANYTHING IN THIS CELL\n",
    "\"\"\"\n",
    "print('Checking the Training on a Single Batch...')\n",
    "with tf.Session() as sess:\n",
    "    # Initializing the variables\n",
    "    sess.run(tf.global_variables_initializer())\n",
    "    \n",
    "    # Training cycle\n",
    "    for epoch in range(epochs):\n",
    "        batch_i = 1\n",
    "        for batch_features, batch_labels in helper.load_preprocess_training_batch(batch_i, batch_size):\n",
    "            train_neural_network(sess, optimizer, keep_probability, batch_features, batch_labels)\n",
    "        print('Epoch {:>2}, CIFAR-10 Batch {}:  '.format(epoch + 1, batch_i), end='')\n",
    "        print_stats(sess, batch_features, batch_labels, cost, accuracy)"
   ]
  },
  {
   "cell_type": "markdown",
   "metadata": {
    "deletable": true,
    "editable": true
   },
   "source": [
    "### Fully Train the Model\n",
    "Now that you got a good accuracy with a single CIFAR-10 batch, try it with all five batches."
   ]
  },
  {
   "cell_type": "code",
   "execution_count": 68,
   "metadata": {
    "collapsed": false,
    "deletable": true,
    "editable": true,
    "scrolled": false
   },
   "outputs": [
    {
     "name": "stdout",
     "output_type": "stream",
     "text": [
      "Training...\n",
      "Epoch  1, CIFAR-10 Batch 1:  Loss:     2.1340 Validation Accuracy: 0.208600\n",
      "Epoch  1, CIFAR-10 Batch 2:  Loss:     1.8668 Validation Accuracy: 0.259400\n",
      "Epoch  1, CIFAR-10 Batch 3:  Loss:     1.8125 Validation Accuracy: 0.279400\n",
      "Epoch  1, CIFAR-10 Batch 4:  Loss:     1.6979 Validation Accuracy: 0.328400\n",
      "Epoch  1, CIFAR-10 Batch 5:  Loss:     1.7473 Validation Accuracy: 0.327600\n",
      "Epoch  2, CIFAR-10 Batch 1:  Loss:     1.7818 Validation Accuracy: 0.383800\n",
      "Epoch  2, CIFAR-10 Batch 2:  Loss:     1.5717 Validation Accuracy: 0.410600\n",
      "Epoch  2, CIFAR-10 Batch 3:  Loss:     1.4651 Validation Accuracy: 0.384400\n",
      "Epoch  2, CIFAR-10 Batch 4:  Loss:     1.4541 Validation Accuracy: 0.456000\n",
      "Epoch  2, CIFAR-10 Batch 5:  Loss:     1.4469 Validation Accuracy: 0.457800\n",
      "Epoch  3, CIFAR-10 Batch 1:  Loss:     1.5442 Validation Accuracy: 0.482400\n",
      "Epoch  3, CIFAR-10 Batch 2:  Loss:     1.3804 Validation Accuracy: 0.492800\n",
      "Epoch  3, CIFAR-10 Batch 3:  Loss:     1.1603 Validation Accuracy: 0.490000\n",
      "Epoch  3, CIFAR-10 Batch 4:  Loss:     1.2530 Validation Accuracy: 0.502800\n",
      "Epoch  3, CIFAR-10 Batch 5:  Loss:     1.2183 Validation Accuracy: 0.526800\n",
      "Epoch  4, CIFAR-10 Batch 1:  Loss:     1.3153 Validation Accuracy: 0.549800\n",
      "Epoch  4, CIFAR-10 Batch 2:  Loss:     1.2514 Validation Accuracy: 0.556000\n",
      "Epoch  4, CIFAR-10 Batch 3:  Loss:     0.9559 Validation Accuracy: 0.559800\n",
      "Epoch  4, CIFAR-10 Batch 4:  Loss:     1.1020 Validation Accuracy: 0.562000\n",
      "Epoch  4, CIFAR-10 Batch 5:  Loss:     1.0678 Validation Accuracy: 0.585000\n",
      "Epoch  5, CIFAR-10 Batch 1:  Loss:     1.1309 Validation Accuracy: 0.585200\n",
      "Epoch  5, CIFAR-10 Batch 2:  Loss:     1.1880 Validation Accuracy: 0.579800\n",
      "Epoch  5, CIFAR-10 Batch 3:  Loss:     0.8666 Validation Accuracy: 0.595800\n",
      "Epoch  5, CIFAR-10 Batch 4:  Loss:     0.9612 Validation Accuracy: 0.611800\n",
      "Epoch  5, CIFAR-10 Batch 5:  Loss:     0.9917 Validation Accuracy: 0.605800\n",
      "Epoch  6, CIFAR-10 Batch 1:  Loss:     0.9963 Validation Accuracy: 0.618000\n",
      "Epoch  6, CIFAR-10 Batch 2:  Loss:     1.0339 Validation Accuracy: 0.620000\n",
      "Epoch  6, CIFAR-10 Batch 3:  Loss:     0.8494 Validation Accuracy: 0.615400\n",
      "Epoch  6, CIFAR-10 Batch 4:  Loss:     0.8968 Validation Accuracy: 0.624200\n",
      "Epoch  6, CIFAR-10 Batch 5:  Loss:     0.9507 Validation Accuracy: 0.629800\n",
      "Epoch  7, CIFAR-10 Batch 1:  Loss:     0.9213 Validation Accuracy: 0.629600\n",
      "Epoch  7, CIFAR-10 Batch 2:  Loss:     0.9641 Validation Accuracy: 0.631600\n",
      "Epoch  7, CIFAR-10 Batch 3:  Loss:     0.7873 Validation Accuracy: 0.640000\n",
      "Epoch  7, CIFAR-10 Batch 4:  Loss:     0.8814 Validation Accuracy: 0.622200\n",
      "Epoch  7, CIFAR-10 Batch 5:  Loss:     0.9084 Validation Accuracy: 0.635600\n",
      "Epoch  8, CIFAR-10 Batch 1:  Loss:     0.8779 Validation Accuracy: 0.651000\n",
      "Epoch  8, CIFAR-10 Batch 2:  Loss:     0.9073 Validation Accuracy: 0.659000\n",
      "Epoch  8, CIFAR-10 Batch 3:  Loss:     0.7061 Validation Accuracy: 0.666200\n",
      "Epoch  8, CIFAR-10 Batch 4:  Loss:     0.7976 Validation Accuracy: 0.652800\n",
      "Epoch  8, CIFAR-10 Batch 5:  Loss:     0.8493 Validation Accuracy: 0.644400\n",
      "Epoch  9, CIFAR-10 Batch 1:  Loss:     0.8263 Validation Accuracy: 0.669200\n",
      "Epoch  9, CIFAR-10 Batch 2:  Loss:     0.8346 Validation Accuracy: 0.674800\n",
      "Epoch  9, CIFAR-10 Batch 3:  Loss:     0.6580 Validation Accuracy: 0.679400\n",
      "Epoch  9, CIFAR-10 Batch 4:  Loss:     0.7776 Validation Accuracy: 0.653800\n",
      "Epoch  9, CIFAR-10 Batch 5:  Loss:     0.7723 Validation Accuracy: 0.680400\n",
      "Epoch 10, CIFAR-10 Batch 1:  Loss:     0.7569 Validation Accuracy: 0.673400\n",
      "Epoch 10, CIFAR-10 Batch 2:  Loss:     0.8153 Validation Accuracy: 0.677800\n",
      "Epoch 10, CIFAR-10 Batch 3:  Loss:     0.6228 Validation Accuracy: 0.680400\n",
      "Epoch 10, CIFAR-10 Batch 4:  Loss:     0.7402 Validation Accuracy: 0.671800\n",
      "Epoch 10, CIFAR-10 Batch 5:  Loss:     0.6734 Validation Accuracy: 0.688600\n",
      "Epoch 11, CIFAR-10 Batch 1:  Loss:     0.7237 Validation Accuracy: 0.684400\n",
      "Epoch 11, CIFAR-10 Batch 2:  Loss:     0.7172 Validation Accuracy: 0.696800\n",
      "Epoch 11, CIFAR-10 Batch 3:  Loss:     0.5922 Validation Accuracy: 0.680400\n",
      "Epoch 11, CIFAR-10 Batch 4:  Loss:     0.6746 Validation Accuracy: 0.684800\n",
      "Epoch 11, CIFAR-10 Batch 5:  Loss:     0.6408 Validation Accuracy: 0.703200\n",
      "Epoch 12, CIFAR-10 Batch 1:  Loss:     0.7189 Validation Accuracy: 0.698200\n",
      "Epoch 12, CIFAR-10 Batch 2:  Loss:     0.6673 Validation Accuracy: 0.707200\n",
      "Epoch 12, CIFAR-10 Batch 3:  Loss:     0.5846 Validation Accuracy: 0.681600\n",
      "Epoch 12, CIFAR-10 Batch 4:  Loss:     0.5986 Validation Accuracy: 0.709400\n",
      "Epoch 12, CIFAR-10 Batch 5:  Loss:     0.5532 Validation Accuracy: 0.715800\n",
      "Epoch 13, CIFAR-10 Batch 1:  Loss:     0.6162 Validation Accuracy: 0.714800\n",
      "Epoch 13, CIFAR-10 Batch 2:  Loss:     0.6526 Validation Accuracy: 0.713600\n",
      "Epoch 13, CIFAR-10 Batch 3:  Loss:     0.5655 Validation Accuracy: 0.683400\n",
      "Epoch 13, CIFAR-10 Batch 4:  Loss:     0.5672 Validation Accuracy: 0.707400\n",
      "Epoch 13, CIFAR-10 Batch 5:  Loss:     0.5463 Validation Accuracy: 0.717800\n",
      "Epoch 14, CIFAR-10 Batch 1:  Loss:     0.6123 Validation Accuracy: 0.705800\n",
      "Epoch 14, CIFAR-10 Batch 2:  Loss:     0.6127 Validation Accuracy: 0.721400\n",
      "Epoch 14, CIFAR-10 Batch 3:  Loss:     0.5127 Validation Accuracy: 0.694000\n",
      "Epoch 14, CIFAR-10 Batch 4:  Loss:     0.5374 Validation Accuracy: 0.720400\n",
      "Epoch 14, CIFAR-10 Batch 5:  Loss:     0.5090 Validation Accuracy: 0.726800\n",
      "Epoch 15, CIFAR-10 Batch 1:  Loss:     0.5871 Validation Accuracy: 0.712200\n",
      "Epoch 15, CIFAR-10 Batch 2:  Loss:     0.6442 Validation Accuracy: 0.710000\n",
      "Epoch 15, CIFAR-10 Batch 3:  Loss:     0.5103 Validation Accuracy: 0.700200\n",
      "Epoch 15, CIFAR-10 Batch 4:  Loss:     0.5492 Validation Accuracy: 0.714400\n",
      "Epoch 15, CIFAR-10 Batch 5:  Loss:     0.4794 Validation Accuracy: 0.733200\n",
      "Epoch 16, CIFAR-10 Batch 1:  Loss:     0.5463 Validation Accuracy: 0.709000\n",
      "Epoch 16, CIFAR-10 Batch 2:  Loss:     0.5825 Validation Accuracy: 0.723600\n",
      "Epoch 16, CIFAR-10 Batch 3:  Loss:     0.4997 Validation Accuracy: 0.684800\n",
      "Epoch 16, CIFAR-10 Batch 4:  Loss:     0.5155 Validation Accuracy: 0.715200\n",
      "Epoch 16, CIFAR-10 Batch 5:  Loss:     0.4506 Validation Accuracy: 0.730200\n",
      "Epoch 17, CIFAR-10 Batch 1:  Loss:     0.4917 Validation Accuracy: 0.734000\n",
      "Epoch 17, CIFAR-10 Batch 2:  Loss:     0.5267 Validation Accuracy: 0.727400\n",
      "Epoch 17, CIFAR-10 Batch 3:  Loss:     0.4271 Validation Accuracy: 0.715200\n",
      "Epoch 17, CIFAR-10 Batch 4:  Loss:     0.4754 Validation Accuracy: 0.735800\n",
      "Epoch 17, CIFAR-10 Batch 5:  Loss:     0.4182 Validation Accuracy: 0.732200\n",
      "Epoch 18, CIFAR-10 Batch 1:  Loss:     0.4557 Validation Accuracy: 0.739200\n",
      "Epoch 18, CIFAR-10 Batch 2:  Loss:     0.5095 Validation Accuracy: 0.733400\n",
      "Epoch 18, CIFAR-10 Batch 3:  Loss:     0.4481 Validation Accuracy: 0.711800\n",
      "Epoch 18, CIFAR-10 Batch 4:  Loss:     0.4579 Validation Accuracy: 0.736600\n",
      "Epoch 18, CIFAR-10 Batch 5:  Loss:     0.4035 Validation Accuracy: 0.738400\n",
      "Epoch 19, CIFAR-10 Batch 1:  Loss:     0.4495 Validation Accuracy: 0.739600\n",
      "Epoch 19, CIFAR-10 Batch 2:  Loss:     0.4591 Validation Accuracy: 0.730000\n",
      "Epoch 19, CIFAR-10 Batch 3:  Loss:     0.4414 Validation Accuracy: 0.702600\n",
      "Epoch 19, CIFAR-10 Batch 4:  Loss:     0.4222 Validation Accuracy: 0.732200\n",
      "Epoch 19, CIFAR-10 Batch 5:  Loss:     0.3800 Validation Accuracy: 0.741200\n",
      "Epoch 20, CIFAR-10 Batch 1:  Loss:     0.4464 Validation Accuracy: 0.738200\n",
      "Epoch 20, CIFAR-10 Batch 2:  Loss:     0.4711 Validation Accuracy: 0.729000\n",
      "Epoch 20, CIFAR-10 Batch 3:  Loss:     0.3727 Validation Accuracy: 0.722000\n",
      "Epoch 20, CIFAR-10 Batch 4:  Loss:     0.4081 Validation Accuracy: 0.736000\n",
      "Epoch 20, CIFAR-10 Batch 5:  Loss:     0.3661 Validation Accuracy: 0.742000\n",
      "Epoch 21, CIFAR-10 Batch 1:  Loss:     0.4539 Validation Accuracy: 0.736000\n",
      "Epoch 21, CIFAR-10 Batch 2:  Loss:     0.4187 Validation Accuracy: 0.730600\n",
      "Epoch 21, CIFAR-10 Batch 3:  Loss:     0.3718 Validation Accuracy: 0.727600\n",
      "Epoch 21, CIFAR-10 Batch 4:  Loss:     0.3714 Validation Accuracy: 0.740200\n",
      "Epoch 21, CIFAR-10 Batch 5:  Loss:     0.3802 Validation Accuracy: 0.747800\n",
      "Epoch 22, CIFAR-10 Batch 1:  Loss:     0.4136 Validation Accuracy: 0.743400\n",
      "Epoch 22, CIFAR-10 Batch 2:  Loss:     0.4603 Validation Accuracy: 0.737600\n",
      "Epoch 22, CIFAR-10 Batch 3:  Loss:     0.3632 Validation Accuracy: 0.737000\n",
      "Epoch 22, CIFAR-10 Batch 4:  Loss:     0.3912 Validation Accuracy: 0.735400\n",
      "Epoch 22, CIFAR-10 Batch 5:  Loss:     0.3236 Validation Accuracy: 0.750400\n",
      "Epoch 23, CIFAR-10 Batch 1:  Loss:     0.3951 Validation Accuracy: 0.742600\n",
      "Epoch 23, CIFAR-10 Batch 2:  Loss:     0.4125 Validation Accuracy: 0.731600\n",
      "Epoch 23, CIFAR-10 Batch 3:  Loss:     0.3286 Validation Accuracy: 0.734600\n",
      "Epoch 23, CIFAR-10 Batch 4:  Loss:     0.3596 Validation Accuracy: 0.741600\n",
      "Epoch 23, CIFAR-10 Batch 5:  Loss:     0.3232 Validation Accuracy: 0.752800\n",
      "Epoch 24, CIFAR-10 Batch 1:  Loss:     0.3826 Validation Accuracy: 0.747200\n",
      "Epoch 24, CIFAR-10 Batch 2:  Loss:     0.3786 Validation Accuracy: 0.739000\n",
      "Epoch 24, CIFAR-10 Batch 3:  Loss:     0.3108 Validation Accuracy: 0.728600\n",
      "Epoch 24, CIFAR-10 Batch 4:  Loss:     0.3464 Validation Accuracy: 0.737400\n",
      "Epoch 24, CIFAR-10 Batch 5:  Loss:     0.2957 Validation Accuracy: 0.745600\n",
      "Epoch 25, CIFAR-10 Batch 1:  Loss:     0.4003 Validation Accuracy: 0.739600\n",
      "Epoch 25, CIFAR-10 Batch 2:  Loss:     0.3613 Validation Accuracy: 0.740600\n",
      "Epoch 25, CIFAR-10 Batch 3:  Loss:     0.3517 Validation Accuracy: 0.724000\n",
      "Epoch 25, CIFAR-10 Batch 4:  Loss:     0.3266 Validation Accuracy: 0.737000\n",
      "Epoch 25, CIFAR-10 Batch 5:  Loss:     0.2850 Validation Accuracy: 0.751600\n",
      "Epoch 26, CIFAR-10 Batch 1:  Loss:     0.3480 Validation Accuracy: 0.741400\n",
      "Epoch 26, CIFAR-10 Batch 2:  Loss:     0.3264 Validation Accuracy: 0.751400\n",
      "Epoch 26, CIFAR-10 Batch 3:  Loss:     0.3023 Validation Accuracy: 0.749400\n",
      "Epoch 26, CIFAR-10 Batch 4:  Loss:     0.3548 Validation Accuracy: 0.738000\n",
      "Epoch 26, CIFAR-10 Batch 5:  Loss:     0.2939 Validation Accuracy: 0.743400\n",
      "Epoch 27, CIFAR-10 Batch 1:  Loss:     0.3359 Validation Accuracy: 0.749400\n",
      "Epoch 27, CIFAR-10 Batch 2:  Loss:     0.3604 Validation Accuracy: 0.730400\n",
      "Epoch 27, CIFAR-10 Batch 3:  Loss:     0.2894 Validation Accuracy: 0.748200\n",
      "Epoch 27, CIFAR-10 Batch 4:  Loss:     0.3217 Validation Accuracy: 0.744400\n",
      "Epoch 27, CIFAR-10 Batch 5:  Loss:     0.2654 Validation Accuracy: 0.746200\n",
      "Epoch 28, CIFAR-10 Batch 1:  Loss:     0.3611 Validation Accuracy: 0.747000\n",
      "Epoch 28, CIFAR-10 Batch 2:  Loss:     0.3649 Validation Accuracy: 0.740000\n",
      "Epoch 28, CIFAR-10 Batch 3:  Loss:     0.3133 Validation Accuracy: 0.740400\n",
      "Epoch 28, CIFAR-10 Batch 4:  Loss:     0.3013 Validation Accuracy: 0.741600\n",
      "Epoch 28, CIFAR-10 Batch 5:  Loss:     0.2860 Validation Accuracy: 0.738000\n",
      "Epoch 29, CIFAR-10 Batch 1:  Loss:     0.3487 Validation Accuracy: 0.744000\n",
      "Epoch 29, CIFAR-10 Batch 2:  Loss:     0.3372 Validation Accuracy: 0.742600\n",
      "Epoch 29, CIFAR-10 Batch 3:  Loss:     0.2643 Validation Accuracy: 0.758200\n",
      "Epoch 29, CIFAR-10 Batch 4:  Loss:     0.2982 Validation Accuracy: 0.733000\n",
      "Epoch 29, CIFAR-10 Batch 5:  Loss:     0.2607 Validation Accuracy: 0.734000\n",
      "Epoch 30, CIFAR-10 Batch 1:  Loss:     0.3092 Validation Accuracy: 0.740800\n",
      "Epoch 30, CIFAR-10 Batch 2:  Loss:     0.3025 Validation Accuracy: 0.743800\n",
      "Epoch 30, CIFAR-10 Batch 3:  Loss:     0.2700 Validation Accuracy: 0.755000\n",
      "Epoch 30, CIFAR-10 Batch 4:  Loss:     0.3094 Validation Accuracy: 0.740000\n",
      "Epoch 30, CIFAR-10 Batch 5:  Loss:     0.2295 Validation Accuracy: 0.736200\n",
      "Epoch 31, CIFAR-10 Batch 1:  Loss:     0.2946 Validation Accuracy: 0.747800\n",
      "Epoch 31, CIFAR-10 Batch 2:  Loss:     0.2948 Validation Accuracy: 0.753400\n",
      "Epoch 31, CIFAR-10 Batch 3:  Loss:     0.2623 Validation Accuracy: 0.743200\n",
      "Epoch 31, CIFAR-10 Batch 4:  Loss:     0.2940 Validation Accuracy: 0.739400\n",
      "Epoch 31, CIFAR-10 Batch 5:  Loss:     0.2269 Validation Accuracy: 0.741000\n",
      "Epoch 32, CIFAR-10 Batch 1:  Loss:     0.3482 Validation Accuracy: 0.742200\n",
      "Epoch 32, CIFAR-10 Batch 2:  Loss:     0.3649 Validation Accuracy: 0.739200\n",
      "Epoch 32, CIFAR-10 Batch 3:  Loss:     0.3090 Validation Accuracy: 0.726400\n",
      "Epoch 32, CIFAR-10 Batch 4:  Loss:     0.2774 Validation Accuracy: 0.745800\n",
      "Epoch 32, CIFAR-10 Batch 5:  Loss:     0.2043 Validation Accuracy: 0.755000\n",
      "Epoch 33, CIFAR-10 Batch 1:  Loss:     0.2906 Validation Accuracy: 0.747400\n",
      "Epoch 33, CIFAR-10 Batch 2:  Loss:     0.2663 Validation Accuracy: 0.755400\n",
      "Epoch 33, CIFAR-10 Batch 3:  Loss:     0.2982 Validation Accuracy: 0.734200\n",
      "Epoch 33, CIFAR-10 Batch 4:  Loss:     0.3425 Validation Accuracy: 0.729000\n",
      "Epoch 33, CIFAR-10 Batch 5:  Loss:     0.2040 Validation Accuracy: 0.746800\n",
      "Epoch 34, CIFAR-10 Batch 1:  Loss:     0.3302 Validation Accuracy: 0.740400\n",
      "Epoch 34, CIFAR-10 Batch 2:  Loss:     0.2822 Validation Accuracy: 0.739800\n",
      "Epoch 34, CIFAR-10 Batch 3:  Loss:     0.2305 Validation Accuracy: 0.745600\n",
      "Epoch 34, CIFAR-10 Batch 4:  Loss:     0.2785 Validation Accuracy: 0.738400\n",
      "Epoch 34, CIFAR-10 Batch 5:  Loss:     0.1654 Validation Accuracy: 0.748200\n",
      "Epoch 35, CIFAR-10 Batch 1:  Loss:     0.2931 Validation Accuracy: 0.742000\n",
      "Epoch 35, CIFAR-10 Batch 2:  Loss:     0.3231 Validation Accuracy: 0.736200\n",
      "Epoch 35, CIFAR-10 Batch 3:  Loss:     0.2545 Validation Accuracy: 0.743800\n",
      "Epoch 35, CIFAR-10 Batch 4:  Loss:     0.2709 Validation Accuracy: 0.733400\n",
      "Epoch 35, CIFAR-10 Batch 5:  Loss:     0.2267 Validation Accuracy: 0.744400\n",
      "Epoch 36, CIFAR-10 Batch 1:  Loss:     0.3553 Validation Accuracy: 0.736800\n",
      "Epoch 36, CIFAR-10 Batch 2:  Loss:     0.2570 Validation Accuracy: 0.740200\n",
      "Epoch 36, CIFAR-10 Batch 3:  Loss:     0.2422 Validation Accuracy: 0.748800\n",
      "Epoch 36, CIFAR-10 Batch 4:  Loss:     0.2808 Validation Accuracy: 0.724600\n",
      "Epoch 36, CIFAR-10 Batch 5:  Loss:     0.1876 Validation Accuracy: 0.753400\n",
      "Epoch 37, CIFAR-10 Batch 1:  Loss:     0.2631 Validation Accuracy: 0.747600\n",
      "Epoch 37, CIFAR-10 Batch 2:  Loss:     0.2214 Validation Accuracy: 0.739000\n",
      "Epoch 37, CIFAR-10 Batch 3:  Loss:     0.2228 Validation Accuracy: 0.739200\n",
      "Epoch 37, CIFAR-10 Batch 4:  Loss:     0.2366 Validation Accuracy: 0.737600\n",
      "Epoch 37, CIFAR-10 Batch 5:  Loss:     0.1857 Validation Accuracy: 0.748800\n",
      "Epoch 38, CIFAR-10 Batch 1:  Loss:     0.2392 Validation Accuracy: 0.752800\n",
      "Epoch 38, CIFAR-10 Batch 2:  Loss:     0.2626 Validation Accuracy: 0.746000\n",
      "Epoch 38, CIFAR-10 Batch 3:  Loss:     0.2185 Validation Accuracy: 0.741400\n",
      "Epoch 38, CIFAR-10 Batch 4:  Loss:     0.2368 Validation Accuracy: 0.732200\n",
      "Epoch 38, CIFAR-10 Batch 5:  Loss:     0.1937 Validation Accuracy: 0.747200\n",
      "Epoch 39, CIFAR-10 Batch 1:  Loss:     0.2638 Validation Accuracy: 0.742200\n",
      "Epoch 39, CIFAR-10 Batch 2:  Loss:     0.2637 Validation Accuracy: 0.747800\n",
      "Epoch 39, CIFAR-10 Batch 3:  Loss:     0.2340 Validation Accuracy: 0.741800\n",
      "Epoch 39, CIFAR-10 Batch 4:  Loss:     0.2219 Validation Accuracy: 0.742800\n",
      "Epoch 39, CIFAR-10 Batch 5:  Loss:     0.1981 Validation Accuracy: 0.755400\n",
      "Epoch 40, CIFAR-10 Batch 1:  Loss:     0.2560 Validation Accuracy: 0.751200\n",
      "Epoch 40, CIFAR-10 Batch 2:  Loss:     0.2505 Validation Accuracy: 0.747400\n",
      "Epoch 40, CIFAR-10 Batch 3:  Loss:     0.2154 Validation Accuracy: 0.748200\n",
      "Epoch 40, CIFAR-10 Batch 4:  Loss:     0.2814 Validation Accuracy: 0.723800\n",
      "Epoch 40, CIFAR-10 Batch 5:  Loss:     0.2046 Validation Accuracy: 0.741200\n"
     ]
    }
   ],
   "source": [
    "\"\"\"\n",
    "DON'T MODIFY ANYTHING IN THIS CELL\n",
    "\"\"\"\n",
    "save_model_path = './image_classification'\n",
    "\n",
    "print('Training...')\n",
    "with tf.Session() as sess:\n",
    "    # Initializing the variables\n",
    "    sess.run(tf.global_variables_initializer())\n",
    "    \n",
    "    # Training cycle\n",
    "    for epoch in range(epochs):\n",
    "        # Loop over all batches\n",
    "        n_batches = 5\n",
    "        for batch_i in range(1, n_batches + 1):\n",
    "            for batch_features, batch_labels in helper.load_preprocess_training_batch(batch_i, batch_size):\n",
    "                train_neural_network(sess, optimizer, keep_probability, batch_features, batch_labels)\n",
    "            print('Epoch {:>2}, CIFAR-10 Batch {}:  '.format(epoch + 1, batch_i), end='')\n",
    "            print_stats(sess, batch_features, batch_labels, cost, accuracy)\n",
    "            \n",
    "    # Save Model\n",
    "    saver = tf.train.Saver()\n",
    "    save_path = saver.save(sess, save_model_path)"
   ]
  },
  {
   "cell_type": "markdown",
   "metadata": {
    "deletable": true,
    "editable": true
   },
   "source": [
    "# Checkpoint\n",
    "The model has been saved to disk.\n",
    "## Test Model\n",
    "Test your model against the test dataset.  This will be your final accuracy. You should have an accuracy greater than 50%. If you don't, keep tweaking the model architecture and parameters."
   ]
  },
  {
   "cell_type": "code",
   "execution_count": 69,
   "metadata": {
    "collapsed": false,
    "deletable": true,
    "editable": true
   },
   "outputs": [
    {
     "name": "stdout",
     "output_type": "stream",
     "text": [
      "Testing Accuracy: 0.7294999814033508\n",
      "\n"
     ]
    },
    {
     "data": {
      "image/png": "[encoded data removed]",
      "text/plain": [
       "<matplotlib.figure.Figure at 0x7fa567fcdef0>"
      ]
     },
     "metadata": {
      "image/png": {
       "height": 319,
       "width": 355
      }
     },
     "output_type": "display_data"
    }
   ],
   "source": [
    "\"\"\"\n",
    "DON'T MODIFY ANYTHING IN THIS CELL\n",
    "\"\"\"\n",
    "%matplotlib inline\n",
    "%config InlineBackend.figure_format = 'retina'\n",
    "\n",
    "import tensorflow as tf\n",
    "import pickle\n",
    "import helper\n",
    "import random\n",
    "\n",
    "# Set batch size if not already set\n",
    "try:\n",
    "    if batch_size:\n",
    "        pass\n",
    "except NameError:\n",
    "    batch_size = 64\n",
    "\n",
    "save_model_path = './image_classification'\n",
    "n_samples = 4\n",
    "top_n_predictions = 3\n",
    "\n",
    "def test_model():\n",
    "    \"\"\"\n",
    "    Test the saved model against the test dataset\n",
    "    \"\"\"\n",
    "\n",
    "    test_features, test_labels = pickle.load(open('preprocess_training.p', mode='rb'))\n",
    "    loaded_graph = tf.Graph()\n",
    "\n",
    "    with tf.Session(graph=loaded_graph) as sess:\n",
    "        # Load model\n",
    "        loader = tf.train.import_meta_graph(save_model_path + '.meta')\n",
    "        loader.restore(sess, save_model_path)\n",
    "\n",
    "        # Get Tensors from loaded model\n",
    "        loaded_x = loaded_graph.get_tensor_by_name('x:0')\n",
    "        loaded_y = loaded_graph.get_tensor_by_name('y:0')\n",
    "        loaded_keep_prob = loaded_graph.get_tensor_by_name('keep_prob:0')\n",
    "        loaded_logits = loaded_graph.get_tensor_by_name('logits:0')\n",
    "        loaded_acc = loaded_graph.get_tensor_by_name('accuracy:0')\n",
    "        \n",
    "        # Get accuracy in batches for memory limitations\n",
    "        test_batch_acc_total = 0\n",
    "        test_batch_count = 0\n",
    "        \n",
    "        for train_feature_batch, train_label_batch in helper.batch_features_labels(test_features, test_labels, batch_size):\n",
    "            test_batch_acc_total += sess.run(\n",
    "                loaded_acc,\n",
    "                feed_dict={loaded_x: train_feature_batch, loaded_y: train_label_batch, loaded_keep_prob: 1.0})\n",
    "            test_batch_count += 1\n",
    "\n",
    "        print('Testing Accuracy: {}\\n'.format(test_batch_acc_total/test_batch_count))\n",
    "\n",
    "        # Print Random Samples\n",
    "        random_test_features, random_test_labels = tuple(zip(*random.sample(list(zip(test_features, test_labels)), n_samples)))\n",
    "        random_test_predictions = sess.run(\n",
    "            tf.nn.top_k(tf.nn.softmax(loaded_logits), top_n_predictions),\n",
    "            feed_dict={loaded_x: random_test_features, loaded_y: random_test_labels, loaded_keep_prob: 1.0})\n",
    "        helper.display_image_predictions(random_test_features, random_test_labels, random_test_predictions)\n",
    "\n",
    "\n",
    "test_model()"
   ]
  },
  {
   "cell_type": "markdown",
   "metadata": {
    "deletable": true,
    "editable": true
   },
   "source": [
    "## Why 50-70% Accuracy?\n",
    "You might be wondering why you can't get an accuracy any higher. First things first, 50% isn't bad for a simple CNN.  Pure guessing would get you 10% accuracy. However, you might notice people are getting scores [well above 70%](http://rodrigob.github.io/are_we_there_yet/build/classification_datasets_results.html#43494641522d3130).  That's because we haven't taught you all there is to know about neural networks. We still need to cover a few more techniques.\n",
    "## Submitting This Project\n",
    "When submitting this project, make sure to run all the cells before saving the notebook.  Save the notebook file as \"dlnd_image_classification.ipynb\" and save it as a HTML file under \"File\" -> \"Download as\".  Include the \"helper.py\" and \"problem_unittests.py\" files in your submission."
   ]
  }
 ],
 "metadata": {
  "kernelspec": {
   "display_name": "Python 3",
   "language": "python",
   "name": "python3"
  },
  "language_info": {
   "codemirror_mode": {
    "name": "ipython",
    "version": 3
   },
   "file_extension": ".py",
   "mimetype": "text/x-python",
   "name": "python",
   "nbconvert_exporter": "python",
   "pygments_lexer": "ipython3",
   "version": "3.5.2"
  },
  "widgets": {
   "state": {},
   "version": "1.1.2"
  }
 },
 "nbformat": 4,
 "nbformat_minor": 0
}
